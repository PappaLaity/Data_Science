{
  "nbformat": 4,
  "nbformat_minor": 0,
  "metadata": {
    "colab": {
      "name": "keras_imdb_modified.ipynb",
      "provenance": []
    },
    "kernelspec": {
      "name": "python3",
      "display_name": "Python 3"
    }
  },
  "cells": [
    {
      "cell_type": "code",
      "metadata": {
        "id": "bJp_o0SsgbEh",
        "colab_type": "code",
        "colab": {
          "base_uri": "https://localhost:8080/",
          "height": 69
        },
        "outputId": "3e81d820-f957-4304-92e7-266958eecc7c"
      },
      "source": [
        "from keras.datasets import imdb\n",
        "( train_data,train_labels ), ( test_data, test_labels ) =  imdb.load_data( num_words = 10000 ) \n",
        "#(train_data, train_labels), (test_data, test_labels) = imdb.load_data()"
      ],
      "execution_count": 1,
      "outputs": [
        {
          "output_type": "stream",
          "text": [
            "Using TensorFlow backend.\n"
          ],
          "name": "stderr"
        },
        {
          "output_type": "stream",
          "text": [
            "Downloading data from https://s3.amazonaws.com/text-datasets/imdb.npz\n",
            "17465344/17464789 [==============================] - 2s 0us/step\n"
          ],
          "name": "stdout"
        }
      ]
    },
    {
      "cell_type": "code",
      "metadata": {
        "id": "9VZOxudOg5FK",
        "colab_type": "code",
        "colab": {}
      },
      "source": [
        "import numpy as np\n",
        "\n",
        "def vectorize_sequences(sequences, dimension=10000):\n",
        "  results = np.zeros((len(sequences), dimension))\n",
        "  for i, sequence in enumerate(sequences):\n",
        "    results[i,sequence] = 1.\n",
        "  return results\n",
        "x_train = vectorize_sequences(train_data)\n",
        "x_test = vectorize_sequences(test_data)"
      ],
      "execution_count": 2,
      "outputs": []
    },
    {
      "cell_type": "code",
      "metadata": {
        "id": "8ucOdvo9hDjA",
        "colab_type": "code",
        "colab": {}
      },
      "source": [
        "y_train = np.asarray(train_labels).astype('float32')\n",
        "y_test = np.asarray(test_labels).astype('float32')"
      ],
      "execution_count": 4,
      "outputs": []
    },
    {
      "cell_type": "code",
      "metadata": {
        "id": "05e1hiPzhJFY",
        "colab_type": "code",
        "colab": {}
      },
      "source": [
        "from keras import models\n",
        "from keras import layers"
      ],
      "execution_count": 5,
      "outputs": []
    },
    {
      "cell_type": "code",
      "metadata": {
        "id": "a6ktfOZKhLbD",
        "colab_type": "code",
        "colab": {}
      },
      "source": [
        "model = models.Sequential()\n",
        "model.add(layers.Dense(32, activation='tanh',input_shape = (10000,)))\n",
        "model.add(layers.Dense(32,activation='tanh'))\n",
        "model.add(layers.Dense(32,activation='tanh'))\n",
        "model.add(layers.Dense(1, activation='sigmoid'))"
      ],
      "execution_count": 6,
      "outputs": []
    },
    {
      "cell_type": "code",
      "metadata": {
        "id": "E-OmoWeYhm1p",
        "colab_type": "code",
        "colab": {}
      },
      "source": [
        "model.compile(optimizer='rmsprop', loss='mse', metrics=['accuracy'])"
      ],
      "execution_count": 7,
      "outputs": []
    },
    {
      "cell_type": "code",
      "metadata": {
        "id": "NAp9HeLsh34S",
        "colab_type": "code",
        "colab": {}
      },
      "source": [
        "x_val = x_train[:10000]\n",
        "partial_x_train = x_train[10000:]\n",
        "y_val = y_train[:10000]\n",
        "partial_y_train = y_train[10000:]"
      ],
      "execution_count": 8,
      "outputs": []
    },
    {
      "cell_type": "code",
      "metadata": {
        "id": "0-x1DB0Eh_cM",
        "colab_type": "code",
        "colab": {
          "base_uri": "https://localhost:8080/",
          "height": 729
        },
        "outputId": "cf98b2d2-bcde-4103-c18c-48de90e98e16"
      },
      "source": [
        "history = model.fit(partial_x_train, partial_y_train, epochs=20, batch_size=512, validation_data=(x_val, y_val))"
      ],
      "execution_count": 12,
      "outputs": [
        {
          "output_type": "stream",
          "text": [
            "Train on 15000 samples, validate on 10000 samples\n",
            "Epoch 1/20\n",
            "15000/15000 [==============================] - 2s 104us/step - loss: 0.0076 - accuracy: 0.9924 - val_loss: 0.1229 - val_accuracy: 0.8625\n",
            "Epoch 2/20\n",
            "15000/15000 [==============================] - 2s 103us/step - loss: 0.0187 - accuracy: 0.9785 - val_loss: 0.1141 - val_accuracy: 0.8702\n",
            "Epoch 3/20\n",
            "15000/15000 [==============================] - 2s 103us/step - loss: 0.0082 - accuracy: 0.9913 - val_loss: 0.1507 - val_accuracy: 0.8357\n",
            "Epoch 4/20\n",
            "15000/15000 [==============================] - 2s 103us/step - loss: 0.0089 - accuracy: 0.9905 - val_loss: 0.1187 - val_accuracy: 0.8691\n",
            "Epoch 5/20\n",
            "15000/15000 [==============================] - 2s 104us/step - loss: 0.0137 - accuracy: 0.9855 - val_loss: 0.1506 - val_accuracy: 0.8347\n",
            "Epoch 6/20\n",
            "15000/15000 [==============================] - 2s 103us/step - loss: 0.0072 - accuracy: 0.9926 - val_loss: 0.1192 - val_accuracy: 0.8692\n",
            "Epoch 7/20\n",
            "15000/15000 [==============================] - 2s 103us/step - loss: 0.0133 - accuracy: 0.9851 - val_loss: 0.1202 - val_accuracy: 0.8666\n",
            "Epoch 8/20\n",
            "15000/15000 [==============================] - 2s 102us/step - loss: 0.0112 - accuracy: 0.9875 - val_loss: 0.1203 - val_accuracy: 0.8672\n",
            "Epoch 9/20\n",
            "15000/15000 [==============================] - 2s 104us/step - loss: 0.0056 - accuracy: 0.9944 - val_loss: 0.1222 - val_accuracy: 0.8663\n",
            "Epoch 10/20\n",
            "15000/15000 [==============================] - 2s 103us/step - loss: 0.0111 - accuracy: 0.9880 - val_loss: 0.1213 - val_accuracy: 0.8678\n",
            "Epoch 11/20\n",
            "15000/15000 [==============================] - 2s 103us/step - loss: 0.0053 - accuracy: 0.9947 - val_loss: 0.1230 - val_accuracy: 0.8658\n",
            "Epoch 12/20\n",
            "15000/15000 [==============================] - 2s 104us/step - loss: 0.0052 - accuracy: 0.9948 - val_loss: 0.1234 - val_accuracy: 0.8658\n",
            "Epoch 13/20\n",
            "15000/15000 [==============================] - 2s 103us/step - loss: 0.0052 - accuracy: 0.9948 - val_loss: 0.1234 - val_accuracy: 0.8661\n",
            "Epoch 14/20\n",
            "15000/15000 [==============================] - 2s 102us/step - loss: 0.0132 - accuracy: 0.9860 - val_loss: 0.1240 - val_accuracy: 0.8653\n",
            "Epoch 15/20\n",
            "15000/15000 [==============================] - 2s 104us/step - loss: 0.0051 - accuracy: 0.9949 - val_loss: 0.1240 - val_accuracy: 0.8652\n",
            "Epoch 16/20\n",
            "15000/15000 [==============================] - 2s 105us/step - loss: 0.0112 - accuracy: 0.9877 - val_loss: 0.1237 - val_accuracy: 0.8648\n",
            "Epoch 17/20\n",
            "15000/15000 [==============================] - 2s 105us/step - loss: 0.0051 - accuracy: 0.9949 - val_loss: 0.1236 - val_accuracy: 0.8652\n",
            "Epoch 18/20\n",
            "15000/15000 [==============================] - 2s 105us/step - loss: 0.0051 - accuracy: 0.9949 - val_loss: 0.1242 - val_accuracy: 0.8644\n",
            "Epoch 19/20\n",
            "15000/15000 [==============================] - 2s 106us/step - loss: 0.0051 - accuracy: 0.9949 - val_loss: 0.1247 - val_accuracy: 0.8649\n",
            "Epoch 20/20\n",
            "15000/15000 [==============================] - 2s 106us/step - loss: 0.0050 - accuracy: 0.9950 - val_loss: 0.1254 - val_accuracy: 0.8645\n"
          ],
          "name": "stdout"
        }
      ]
    },
    {
      "cell_type": "code",
      "metadata": {
        "id": "aPHXHPhFiUW3",
        "colab_type": "code",
        "colab": {
          "base_uri": "https://localhost:8080/",
          "height": 312
        },
        "outputId": "0c251e5d-9780-4d32-e13f-2a5155c31f03"
      },
      "source": [
        "history_dict= history.history\n",
        "import matplotlib.pyplot as plt\n",
        "loss_values = history_dict['loss']\n",
        "acc = history_dict['accuracy']\n",
        "val_loss_values = history_dict['val_loss']\n",
        "epochs = range(1, len(acc) + 1)\n",
        "plt.plot(epochs, loss_values, 'bo', label='Training loss')\n",
        "plt.plot(epochs, val_loss_values, 'b', label='Validation loss')\n",
        "plt.title('Training and validation loss')\n",
        "plt.xlabel('Epochs')\n",
        "plt.ylabel('Loss')\n",
        "plt.legend()"
      ],
      "execution_count": 13,
      "outputs": [
        {
          "output_type": "execute_result",
          "data": {
            "text/plain": [
              "<matplotlib.legend.Legend at 0x7f920ad78630>"
            ]
          },
          "metadata": {
            "tags": []
          },
          "execution_count": 13
        },
        {
          "output_type": "display_data",
          "data": {
            "image/png": "[encoded data removed]",
            "text/plain": [
              "<Figure size 432x288 with 1 Axes>"
            ]
          },
          "metadata": {
            "tags": [],
            "needs_background": "light"
          }
        }
      ]
    },
    {
      "cell_type": "code",
      "metadata": {
        "id": "YgTRtJmHidTQ",
        "colab_type": "code",
        "colab": {
          "base_uri": "https://localhost:8080/",
          "height": 295
        },
        "outputId": "4acb053c-d16b-4917-e1ed-1247c8d967dc"
      },
      "source": [
        "plt.clf()\n",
        "acc_values = history_dict['accuracy']\n",
        "val_acc_values = history_dict['val_accuracy']\n",
        "plt.plot(epochs, acc_values, 'bo', label='Training acc')\n",
        "plt.plot(epochs, val_acc_values, 'b', label='Validation acc')\n",
        "plt.title('Training and validation accuracy')\n",
        "plt.xlabel('Epochs')\n",
        "plt.ylabel('Loss')\n",
        "plt.legend()\n",
        "plt.show()"
      ],
      "execution_count": 11,
      "outputs": [
        {
          "output_type": "display_data",
          "data": {
            "image/png": "[encoded data removed]",
            "text/plain": [
              "<Figure size 432x288 with 1 Axes>"
            ]
          },
          "metadata": {
            "tags": [],
            "needs_background": "light"
          }
        }
      ]
    }
  ]
}