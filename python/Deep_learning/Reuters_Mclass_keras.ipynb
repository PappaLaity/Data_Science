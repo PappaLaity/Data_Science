{
  "nbformat": 4,
  "nbformat_minor": 0,
  "metadata": {
    "colab": {
      "name": "Reuters_Mclass_keras.ipynb",
      "provenance": [],
      "collapsed_sections": []
    },
    "kernelspec": {
      "name": "python3",
      "display_name": "Python 3"
    }
  },
  "cells": [
    {
      "cell_type": "markdown",
      "metadata": {
        "id": "sTkwpZmsfyVn",
        "colab_type": "text"
      },
      "source": [
        "\n",
        "\n",
        ">Import des Donnees \n",
        "\n",
        "\n",
        "\n",
        "\n",
        "\n",
        "\n"
      ]
    },
    {
      "cell_type": "code",
      "metadata": {
        "id": "qCXmR0h-uPTU",
        "colab_type": "code",
        "colab": {}
      },
      "source": [
        "from keras.datasets import reuters\n",
        "(train_data, train_labels), (test_data, test_labels) = reuters.load_data(\n",
        "num_words=10000)"
      ],
      "execution_count": 6,
      "outputs": []
    },
    {
      "cell_type": "code",
      "metadata": {
        "id": "UU27MGREuodf",
        "colab_type": "code",
        "colab": {
          "base_uri": "https://localhost:8080/",
          "height": 52
        },
        "outputId": "4ec8faf0-8259-4352-d8e4-7ea8d76120bc"
      },
      "source": [
        "word_index = reuters.get_word_index()\n",
        "reverse_word_index = dict([(value, key) for (key, value) in word_index.items()])\n",
        "decoded_newswire = ' '.join([reverse_word_index.get(i - 3, '?') for i in train_data[0]])"
      ],
      "execution_count": null,
      "outputs": [
        {
          "output_type": "stream",
          "text": [
            "Downloading data from https://s3.amazonaws.com/text-datasets/reuters_word_index.json\n",
            "557056/550378 [==============================] - 0s 1us/step\n"
          ],
          "name": "stdout"
        }
      ]
    },
    {
      "cell_type": "code",
      "metadata": {
        "id": "p3MwCl81Z2_u",
        "colab_type": "code",
        "colab": {
          "base_uri": "https://localhost:8080/",
          "height": 71
        },
        "outputId": "71ec3f0b-6079-47b6-9451-3c0a0f530f02"
      },
      "source": [
        "decoded_newswire"
      ],
      "execution_count": null,
      "outputs": [
        {
          "output_type": "execute_result",
          "data": {
            "application/vnd.google.colaboratory.intrinsic": {
              "type": "string"
            },
            "text/plain": [
              "'? ? ? said as a result of its december acquisition of space co it expects earnings per share in 1987 of 1 15 to 1 30 dlrs per share up from 70 cts in 1986 the company said pretax net should rise to nine to 10 mln dlrs from six mln dlrs in 1986 and rental operation revenues to 19 to 22 mln dlrs from 12 5 mln dlrs it said cash flow per share this year should be 2 50 to three dlrs reuter 3'"
            ]
          },
          "metadata": {
            "tags": []
          },
          "execution_count": 3
        }
      ]
    },
    {
      "cell_type": "code",
      "metadata": {
        "id": "wUOffWXScLmX",
        "colab_type": "code",
        "colab": {
          "base_uri": "https://localhost:8080/",
          "height": 54
        },
        "outputId": "45dcc884-eca6-4215-bb5c-a05e4708375c"
      },
      "source": [
        "decoded_newswire1 = ' '.join([reverse_word_index.get(i - 3, '?') for i in train_data[1]])\n",
        "decoded_newswire1"
      ],
      "execution_count": null,
      "outputs": [
        {
          "output_type": "execute_result",
          "data": {
            "application/vnd.google.colaboratory.intrinsic": {
              "type": "string"
            },
            "text/plain": [
              "'? generale de banque sa lt ? br and lt heller overseas corp of chicago have each taken 50 pct stakes in ? company sa ? factors generale de banque said in a statement it gave no financial details of the transaction sa ? ? turnover in 1986 was 17 5 billion belgian francs reuter 3'"
            ]
          },
          "metadata": {
            "tags": []
          },
          "execution_count": 10
        }
      ]
    },
    {
      "cell_type": "code",
      "metadata": {
        "id": "CwxnHblpcZHh",
        "colab_type": "code",
        "colab": {
          "base_uri": "https://localhost:8080/",
          "height": 1000
        },
        "outputId": "d7ee634d-1031-419b-da4f-fcc27cbe6f6a"
      },
      "source": [
        "train_data[0]"
      ],
      "execution_count": 7,
      "outputs": [
        {
          "output_type": "execute_result",
          "data": {
            "text/plain": [
              "[1,\n",
              " 2,\n",
              " 2,\n",
              " 8,\n",
              " 43,\n",
              " 10,\n",
              " 447,\n",
              " 5,\n",
              " 25,\n",
              " 207,\n",
              " 270,\n",
              " 5,\n",
              " 3095,\n",
              " 111,\n",
              " 16,\n",
              " 369,\n",
              " 186,\n",
              " 90,\n",
              " 67,\n",
              " 7,\n",
              " 89,\n",
              " 5,\n",
              " 19,\n",
              " 102,\n",
              " 6,\n",
              " 19,\n",
              " 124,\n",
              " 15,\n",
              " 90,\n",
              " 67,\n",
              " 84,\n",
              " 22,\n",
              " 482,\n",
              " 26,\n",
              " 7,\n",
              " 48,\n",
              " 4,\n",
              " 49,\n",
              " 8,\n",
              " 864,\n",
              " 39,\n",
              " 209,\n",
              " 154,\n",
              " 6,\n",
              " 151,\n",
              " 6,\n",
              " 83,\n",
              " 11,\n",
              " 15,\n",
              " 22,\n",
              " 155,\n",
              " 11,\n",
              " 15,\n",
              " 7,\n",
              " 48,\n",
              " 9,\n",
              " 4579,\n",
              " 1005,\n",
              " 504,\n",
              " 6,\n",
              " 258,\n",
              " 6,\n",
              " 272,\n",
              " 11,\n",
              " 15,\n",
              " 22,\n",
              " 134,\n",
              " 44,\n",
              " 11,\n",
              " 15,\n",
              " 16,\n",
              " 8,\n",
              " 197,\n",
              " 1245,\n",
              " 90,\n",
              " 67,\n",
              " 52,\n",
              " 29,\n",
              " 209,\n",
              " 30,\n",
              " 32,\n",
              " 132,\n",
              " 6,\n",
              " 109,\n",
              " 15,\n",
              " 17,\n",
              " 12]"
            ]
          },
          "metadata": {
            "tags": []
          },
          "execution_count": 7
        }
      ]
    },
    {
      "cell_type": "code",
      "metadata": {
        "id": "27_-_QYkceDQ",
        "colab_type": "code",
        "colab": {}
      },
      "source": [
        ""
      ],
      "execution_count": null,
      "outputs": []
    },
    {
      "cell_type": "code",
      "metadata": {
        "id": "QxOKp_34cdG5",
        "colab_type": "code",
        "colab": {
          "base_uri": "https://localhost:8080/",
          "height": 990
        },
        "outputId": "b95e9f42-3091-40a8-b053-ab870834a7a9"
      },
      "source": [
        "train_data[1]"
      ],
      "execution_count": null,
      "outputs": [
        {
          "output_type": "execute_result",
          "data": {
            "text/plain": [
              "[1,\n",
              " 3267,\n",
              " 699,\n",
              " 3434,\n",
              " 2295,\n",
              " 56,\n",
              " 2,\n",
              " 7511,\n",
              " 9,\n",
              " 56,\n",
              " 3906,\n",
              " 1073,\n",
              " 81,\n",
              " 5,\n",
              " 1198,\n",
              " 57,\n",
              " 366,\n",
              " 737,\n",
              " 132,\n",
              " 20,\n",
              " 4093,\n",
              " 7,\n",
              " 2,\n",
              " 49,\n",
              " 2295,\n",
              " 2,\n",
              " 1037,\n",
              " 3267,\n",
              " 699,\n",
              " 3434,\n",
              " 8,\n",
              " 7,\n",
              " 10,\n",
              " 241,\n",
              " 16,\n",
              " 855,\n",
              " 129,\n",
              " 231,\n",
              " 783,\n",
              " 5,\n",
              " 4,\n",
              " 587,\n",
              " 2295,\n",
              " 2,\n",
              " 2,\n",
              " 775,\n",
              " 7,\n",
              " 48,\n",
              " 34,\n",
              " 191,\n",
              " 44,\n",
              " 35,\n",
              " 1795,\n",
              " 505,\n",
              " 17,\n",
              " 12]"
            ]
          },
          "metadata": {
            "tags": []
          },
          "execution_count": 12
        }
      ]
    },
    {
      "cell_type": "code",
      "metadata": {
        "id": "jPiOzRJMaB0j",
        "colab_type": "code",
        "colab": {
          "base_uri": "https://localhost:8080/",
          "height": 503
        },
        "outputId": "2c014bb9-b33a-47c0-d393-b8391068c7b0"
      },
      "source": [
        "help(enumerate)"
      ],
      "execution_count": null,
      "outputs": [
        {
          "output_type": "stream",
          "text": [
            "Help on class enumerate in module builtins:\n",
            "\n",
            "class enumerate(object)\n",
            " |  enumerate(iterable[, start]) -> iterator for index, value of iterable\n",
            " |  \n",
            " |  Return an enumerate object.  iterable must be another object that supports\n",
            " |  iteration.  The enumerate object yields pairs containing a count (from\n",
            " |  start, which defaults to zero) and a value yielded by the iterable argument.\n",
            " |  enumerate is useful for obtaining an indexed list:\n",
            " |      (0, seq[0]), (1, seq[1]), (2, seq[2]), ...\n",
            " |  \n",
            " |  Methods defined here:\n",
            " |  \n",
            " |  __getattribute__(self, name, /)\n",
            " |      Return getattr(self, name).\n",
            " |  \n",
            " |  __iter__(self, /)\n",
            " |      Implement iter(self).\n",
            " |  \n",
            " |  __new__(*args, **kwargs) from builtins.type\n",
            " |      Create and return a new object.  See help(type) for accurate signature.\n",
            " |  \n",
            " |  __next__(self, /)\n",
            " |      Implement next(self).\n",
            " |  \n",
            " |  __reduce__(...)\n",
            " |      Return state information for pickling.\n",
            "\n"
          ],
          "name": "stdout"
        }
      ]
    },
    {
      "cell_type": "code",
      "metadata": {
        "id": "5abjAdY5acT5",
        "colab_type": "code",
        "colab": {
          "base_uri": "https://localhost:8080/",
          "height": 34
        },
        "outputId": "46ea1bb7-6fc3-418d-ca8b-8c04047d54ae"
      },
      "source": [
        "train_data.shape"
      ],
      "execution_count": null,
      "outputs": [
        {
          "output_type": "execute_result",
          "data": {
            "text/plain": [
              "(8982,)"
            ]
          },
          "metadata": {
            "tags": []
          },
          "execution_count": 9
        }
      ]
    },
    {
      "cell_type": "markdown",
      "metadata": {
        "id": "jT7UALZUfsbD",
        "colab_type": "text"
      },
      "source": [
        "Preparation Des Donnees"
      ]
    },
    {
      "cell_type": "code",
      "metadata": {
        "id": "Hxjc1y-Nbakq",
        "colab_type": "code",
        "colab": {}
      },
      "source": [
        "import numpy as np\n",
        "def vectorize_sequences(sequences, dimension=10000):\n",
        "  results = np.zeros((len(sequences), dimension))\n",
        "  for i, sequence in enumerate(sequences):\n",
        "    results[i, sequence] = 1.\n",
        "  return results\n",
        "x_train = vectorize_sequences(train_data)\n",
        "x_test = vectorize_sequences(test_data)"
      ],
      "execution_count": 8,
      "outputs": []
    },
    {
      "cell_type": "code",
      "metadata": {
        "id": "0ulCLEglcsKG",
        "colab_type": "code",
        "colab": {}
      },
      "source": [
        "from keras.utils.np_utils import to_categorical\n",
        "one_hot_train_labels = to_categorical(train_labels)\n",
        "one_hot_test_labels = to_categorical(test_labels)"
      ],
      "execution_count": 9,
      "outputs": []
    },
    {
      "cell_type": "markdown",
      "metadata": {
        "id": "_yWAXePmfhdN",
        "colab_type": "text"
      },
      "source": [
        "Construction Modele Deep Learning"
      ]
    },
    {
      "cell_type": "code",
      "metadata": {
        "id": "awWHZ629fX3H",
        "colab_type": "code",
        "colab": {}
      },
      "source": [
        "from keras import models\n",
        "from keras import layers"
      ],
      "execution_count": 10,
      "outputs": []
    },
    {
      "cell_type": "code",
      "metadata": {
        "id": "pKjyUT8PgFLC",
        "colab_type": "code",
        "colab": {}
      },
      "source": [
        "model = models.Sequential()\n",
        "model.add(layers.Dense(64, activation='relu', input_shape=(10000,)))\n",
        "model.add(layers.Dense(64,activation='relu'))\n",
        "model.add(layers.Dense(46,activation='softmax'))\n"
      ],
      "execution_count": 11,
      "outputs": []
    },
    {
      "cell_type": "code",
      "metadata": {
        "id": "9Mhu7DYNh1bt",
        "colab_type": "code",
        "colab": {}
      },
      "source": [
        "model.compile(optimizer='rmsprop', loss='categorical_crossentropy', metrics=['accuracy'])"
      ],
      "execution_count": 12,
      "outputs": []
    },
    {
      "cell_type": "markdown",
      "metadata": {
        "id": "iLho9li1iOvS",
        "colab_type": "text"
      },
      "source": [
        "Validation Approach"
      ]
    },
    {
      "cell_type": "code",
      "metadata": {
        "id": "mjHAGOgoiUTX",
        "colab_type": "code",
        "colab": {}
      },
      "source": [
        "x_val = x_train[:1000]\n",
        "partial_x_train= x_train[1000:]\n",
        "y_val = one_hot_train_labels[:1000]\n",
        "partial_y_train = one_hot_train_labels[1000:]"
      ],
      "execution_count": 13,
      "outputs": []
    },
    {
      "cell_type": "markdown",
      "metadata": {
        "id": "l8PWRfLklNTT",
        "colab_type": "text"
      },
      "source": [
        "Training..."
      ]
    },
    {
      "cell_type": "code",
      "metadata": {
        "id": "_gs6C4x6lQAg",
        "colab_type": "code",
        "colab": {
          "base_uri": "https://localhost:8080/",
          "height": 729
        },
        "outputId": "df9f651a-8191-4e46-9251-f52e1e42e8e9"
      },
      "source": [
        "history = model.fit(partial_x_train,partial_y_train, epochs=20, batch_size=512,validation_data=(x_val,y_val))"
      ],
      "execution_count": 14,
      "outputs": [
        {
          "output_type": "stream",
          "text": [
            "Train on 7982 samples, validate on 1000 samples\n",
            "Epoch 1/20\n",
            "7982/7982 [==============================] - 1s 127us/step - loss: 2.6355 - accuracy: 0.4976 - val_loss: 1.7982 - val_accuracy: 0.6220\n",
            "Epoch 2/20\n",
            "7982/7982 [==============================] - 1s 114us/step - loss: 1.4940 - accuracy: 0.6873 - val_loss: 1.3600 - val_accuracy: 0.6900\n",
            "Epoch 3/20\n",
            "7982/7982 [==============================] - 1s 111us/step - loss: 1.1017 - accuracy: 0.7554 - val_loss: 1.1532 - val_accuracy: 0.7580\n",
            "Epoch 4/20\n",
            "7982/7982 [==============================] - 1s 112us/step - loss: 0.8631 - accuracy: 0.8153 - val_loss: 1.0537 - val_accuracy: 0.7760\n",
            "Epoch 5/20\n",
            "7982/7982 [==============================] - 1s 114us/step - loss: 0.6874 - accuracy: 0.8598 - val_loss: 0.9597 - val_accuracy: 0.8030\n",
            "Epoch 6/20\n",
            "7982/7982 [==============================] - 1s 115us/step - loss: 0.5488 - accuracy: 0.8898 - val_loss: 0.9213 - val_accuracy: 0.8020\n",
            "Epoch 7/20\n",
            "7982/7982 [==============================] - 1s 114us/step - loss: 0.4421 - accuracy: 0.9100 - val_loss: 0.8992 - val_accuracy: 0.8080\n",
            "Epoch 8/20\n",
            "7982/7982 [==============================] - 1s 114us/step - loss: 0.3603 - accuracy: 0.9248 - val_loss: 0.8915 - val_accuracy: 0.8140\n",
            "Epoch 9/20\n",
            "7982/7982 [==============================] - 1s 115us/step - loss: 0.2987 - accuracy: 0.9344 - val_loss: 0.8884 - val_accuracy: 0.8180\n",
            "Epoch 10/20\n",
            "7982/7982 [==============================] - 1s 115us/step - loss: 0.2541 - accuracy: 0.9421 - val_loss: 0.8933 - val_accuracy: 0.8160\n",
            "Epoch 11/20\n",
            "7982/7982 [==============================] - 1s 114us/step - loss: 0.2131 - accuracy: 0.9464 - val_loss: 0.8888 - val_accuracy: 0.8150\n",
            "Epoch 12/20\n",
            "7982/7982 [==============================] - 1s 117us/step - loss: 0.1889 - accuracy: 0.9486 - val_loss: 0.9024 - val_accuracy: 0.8160\n",
            "Epoch 13/20\n",
            "7982/7982 [==============================] - 1s 116us/step - loss: 0.1682 - accuracy: 0.9539 - val_loss: 0.9102 - val_accuracy: 0.8210\n",
            "Epoch 14/20\n",
            "7982/7982 [==============================] - 1s 113us/step - loss: 0.1515 - accuracy: 0.9548 - val_loss: 0.9510 - val_accuracy: 0.8160\n",
            "Epoch 15/20\n",
            "7982/7982 [==============================] - 1s 116us/step - loss: 0.1447 - accuracy: 0.9551 - val_loss: 0.9660 - val_accuracy: 0.8080\n",
            "Epoch 16/20\n",
            "7982/7982 [==============================] - 1s 115us/step - loss: 0.1309 - accuracy: 0.9555 - val_loss: 0.9531 - val_accuracy: 0.8150\n",
            "Epoch 17/20\n",
            "7982/7982 [==============================] - 1s 115us/step - loss: 0.1250 - accuracy: 0.9577 - val_loss: 1.0115 - val_accuracy: 0.8010\n",
            "Epoch 18/20\n",
            "7982/7982 [==============================] - 1s 115us/step - loss: 0.1192 - accuracy: 0.9559 - val_loss: 1.0770 - val_accuracy: 0.7990\n",
            "Epoch 19/20\n",
            "7982/7982 [==============================] - 1s 115us/step - loss: 0.1186 - accuracy: 0.9564 - val_loss: 1.0238 - val_accuracy: 0.8090\n",
            "Epoch 20/20\n",
            "7982/7982 [==============================] - 1s 115us/step - loss: 0.1129 - accuracy: 0.9574 - val_loss: 1.0859 - val_accuracy: 0.8010\n"
          ],
          "name": "stdout"
        }
      ]
    },
    {
      "cell_type": "code",
      "metadata": {
        "id": "ufddJOhRBBfu",
        "colab_type": "code",
        "colab": {
          "base_uri": "https://localhost:8080/",
          "height": 34
        },
        "outputId": "5e5a91ee-6a9e-4e67-a277-500a8338610c"
      },
      "source": [
        "history.history.keys()"
      ],
      "execution_count": 17,
      "outputs": [
        {
          "output_type": "execute_result",
          "data": {
            "text/plain": [
              "dict_keys(['val_loss', 'val_accuracy', 'loss', 'accuracy'])"
            ]
          },
          "metadata": {
            "tags": []
          },
          "execution_count": 17
        }
      ]
    },
    {
      "cell_type": "code",
      "metadata": {
        "id": "ECKMsKLOAqfz",
        "colab_type": "code",
        "colab": {
          "base_uri": "https://localhost:8080/",
          "height": 295
        },
        "outputId": "733704b7-d7a8-4e52-9742-103e4a15847a"
      },
      "source": [
        "import matplotlib.pyplot as plt\n",
        "loss = history.history['loss']\n",
        "val_loss = history.history['val_loss']\n",
        "epochs = range(1,len(loss)+1)\n",
        "plt.plot(epochs, loss, 'bo', label = 'Training loss')\n",
        "plt.plot(epochs, val_loss, 'b', label = 'Validation loss')\n",
        "plt.title('Training & validation loss')\n",
        "plt.xlabel('Epochs')\n",
        "plt.ylabel('Loss')\n",
        "plt.legend()\n",
        "\n",
        "plt.show()"
      ],
      "execution_count": 18,
      "outputs": [
        {
          "output_type": "display_data",
          "data": {
            "image/png": "[encoded data removed]",
            "text/plain": [
              "<Figure size 432x288 with 1 Axes>"
            ]
          },
          "metadata": {
            "tags": [],
            "needs_background": "light"
          }
        }
      ]
    },
    {
      "cell_type": "code",
      "metadata": {
        "id": "m4s-uAlcDDqg",
        "colab_type": "code",
        "colab": {
          "base_uri": "https://localhost:8080/",
          "height": 279
        },
        "outputId": "44531cac-38ca-4e82-f165-18a521978474"
      },
      "source": [
        "plt.clf()\n",
        "acc = history.history['accuracy']\n",
        "val_acc = history.history['val_accuracy']\n",
        "plt.plot(epochs, acc , 'bo', label= 'Training Accuracy')\n",
        "plt.plot(epochs , val_acc , 'b', label = 'Validation Accuracy')\n",
        "plt.xlabel('Epochs')\n",
        "plt.ylabel('Accuracy')\n",
        "plt.legend()\n",
        "plt.show()"
      ],
      "execution_count": 19,
      "outputs": [
        {
          "output_type": "display_data",
          "data": {
            "image/png": "[encoded data removed]",
            "text/plain": [
              "<Figure size 432x288 with 1 Axes>"
            ]
          },
          "metadata": {
            "tags": [],
            "needs_background": "light"
          }
        }
      ]
    },
    {
      "cell_type": "code",
      "metadata": {
        "id": "J5lwkLdwEPKS",
        "colab_type": "code",
        "colab": {
          "base_uri": "https://localhost:8080/",
          "height": 347
        },
        "outputId": "40e1f911-a169-4014-f631-c1b075074f68"
      },
      "source": [
        "history = model.fit(partial_x_train,partial_y_train, epochs=9, batch_size=512,validation_data=(x_val,y_val))"
      ],
      "execution_count": 20,
      "outputs": [
        {
          "output_type": "stream",
          "text": [
            "Train on 7982 samples, validate on 1000 samples\n",
            "Epoch 1/9\n",
            "7982/7982 [==============================] - 1s 151us/step - loss: 0.1081 - accuracy: 0.9583 - val_loss: 1.0985 - val_accuracy: 0.7960\n",
            "Epoch 2/9\n",
            "7982/7982 [==============================] - 1s 120us/step - loss: 0.1037 - accuracy: 0.9590 - val_loss: 1.0964 - val_accuracy: 0.8070\n",
            "Epoch 3/9\n",
            "7982/7982 [==============================] - 1s 118us/step - loss: 0.1057 - accuracy: 0.9577 - val_loss: 1.1010 - val_accuracy: 0.7980\n",
            "Epoch 4/9\n",
            "7982/7982 [==============================] - 1s 118us/step - loss: 0.1015 - accuracy: 0.9568 - val_loss: 1.1313 - val_accuracy: 0.8020\n",
            "Epoch 5/9\n",
            "7982/7982 [==============================] - 1s 118us/step - loss: 0.1038 - accuracy: 0.9575 - val_loss: 1.1226 - val_accuracy: 0.7990\n",
            "Epoch 6/9\n",
            "7982/7982 [==============================] - 1s 119us/step - loss: 0.0964 - accuracy: 0.9603 - val_loss: 1.1738 - val_accuracy: 0.7880\n",
            "Epoch 7/9\n",
            "7982/7982 [==============================] - 1s 116us/step - loss: 0.0977 - accuracy: 0.9608 - val_loss: 1.1218 - val_accuracy: 0.8030\n",
            "Epoch 8/9\n",
            "7982/7982 [==============================] - 1s 119us/step - loss: 0.0961 - accuracy: 0.9584 - val_loss: 1.1877 - val_accuracy: 0.8030\n",
            "Epoch 9/9\n",
            "7982/7982 [==============================] - 1s 120us/step - loss: 0.0991 - accuracy: 0.9568 - val_loss: 1.1076 - val_accuracy: 0.8120\n"
          ],
          "name": "stdout"
        }
      ]
    },
    {
      "cell_type": "code",
      "metadata": {
        "id": "dlY2CzwPFdKr",
        "colab_type": "code",
        "colab": {
          "base_uri": "https://localhost:8080/",
          "height": 34
        },
        "outputId": "08591457-efd4-4c14-91e3-656c73633633"
      },
      "source": [
        "results = model.evaluate(x_test, one_hot_test_labels)"
      ],
      "execution_count": 21,
      "outputs": [
        {
          "output_type": "stream",
          "text": [
            "2246/2246 [==============================] - 0s 86us/step\n"
          ],
          "name": "stdout"
        }
      ]
    },
    {
      "cell_type": "code",
      "metadata": {
        "id": "rx4_hw2jFp5c",
        "colab_type": "code",
        "colab": {
          "base_uri": "https://localhost:8080/",
          "height": 34
        },
        "outputId": "836926e4-d818-4107-f542-da9b42558ea8"
      },
      "source": [
        "results"
      ],
      "execution_count": 22,
      "outputs": [
        {
          "output_type": "execute_result",
          "data": {
            "text/plain": [
              "[1.3421410955919926, 0.7885128855705261]"
            ]
          },
          "metadata": {
            "tags": []
          },
          "execution_count": 22
        }
      ]
    }
  ]
}